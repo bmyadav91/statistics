{
 "cells": [
  {
   "cell_type": "code",
   "execution_count": 101,
   "id": "fad60809-9ea3-4a38-b968-48d6943b67c5",
   "metadata": {},
   "outputs": [],
   "source": [
    "import numpy as np\n",
    "import statistics as stats\n",
    "import scipy.stats as st\n",
    "from scipy.stats import norm\n",
    "import matplotlib.pyplot as plt\n",
    "import seaborn as sns\n",
    "from scipy.stats import skew\n",
    "import pandas as pd\n",
    "from scipy.stats import expon\n",
    "from scipy.stats import poisson\n",
    "from scipy.stats import chi2_contingency"
   ]
  },
  {
   "cell_type": "code",
   "execution_count": 102,
   "id": "a836d77b-783d-4e1d-b3f2-74b72f76f03a",
   "metadata": {},
   "outputs": [],
   "source": [
    "# 1. Generate a list of 100 integers containing values between 90 to 130 and store it in the variable `int_list`. after generating the list, find the following:\n",
    "int_list = np.random.randint(90, 130, 100)"
   ]
  },
  {
   "cell_type": "code",
   "execution_count": 103,
   "id": "89693881-50bf-46ad-b2cf-1343422daecf",
   "metadata": {},
   "outputs": [
    {
     "name": "stdout",
     "output_type": "stream",
     "text": [
      "Mean Is: 110.24\n",
      "Median is: 110.0\n"
     ]
    }
   ],
   "source": [
    "# (i) Write a Python function to calculate the mean of a given list of numbers. Create a function to find the median of a list of numbers\n",
    "def find_mean(List):\n",
    "    print(\"Mean Is:\", np.mean(List))\n",
    "\n",
    "find_mean(int_list)\n",
    "\n",
    "def find_median(List):\n",
    "    print(\"Median is:\", np.median(List))\n",
    "\n",
    "find_median(int_list)"
   ]
  },
  {
   "cell_type": "code",
   "execution_count": 104,
   "id": "7da60611-8864-410f-bf71-f26959bfcc17",
   "metadata": {},
   "outputs": [
    {
     "name": "stdout",
     "output_type": "stream",
     "text": [
      "Mode is 127\n"
     ]
    }
   ],
   "source": [
    "# (ii) Develop a program to compute the mode of a list of integers.\n",
    "def find_mode(List):\n",
    "    print(\"Mode is\", stats.mode(List))\n",
    "\n",
    "find_mode(int_list)"
   ]
  },
  {
   "cell_type": "code",
   "execution_count": 105,
   "id": "8d149d47-3292-41d4-8d7c-d7102e6acb12",
   "metadata": {},
   "outputs": [
    {
     "name": "stdout",
     "output_type": "stream",
     "text": [
      "Weighted Mean: 23.333333333333332\n"
     ]
    }
   ],
   "source": [
    "# (iii) Implement a function to calculate the weighted mean of a list of values and their corresponding weights.\n",
    "def find_weighted_mean(Value, Weight):\n",
    "    if len(Value) != len(Weight):\n",
    "        print(\"Length not equal\")\n",
    "        return False\n",
    "\n",
    "    weighted_sum = sum(Value * Weight for Value, Weight in zip(Value, Weight))\n",
    "    weighted_mean = weighted_sum / sum(Weight)\n",
    "    return weighted_mean\n",
    "\n",
    "values = [10, 20, 30]\n",
    "weights = [1, 2, 3]\n",
    "print(\"Weighted Mean:\", find_weighted_mean(values, weights))"
   ]
  },
  {
   "cell_type": "code",
   "execution_count": 106,
   "id": "ae3b902e-9cd7-4650-bf62-5eefa63de1ca",
   "metadata": {},
   "outputs": [
    {
     "name": "stdout",
     "output_type": "stream",
     "text": [
      "Gmean: 3.93597934253086\n"
     ]
    }
   ],
   "source": [
    "# (iv) Write a Python function to find the geometric mean of a list of positive numbers.\n",
    "\n",
    "def find_Gmean(List):\n",
    "    if not all(n > 0 for n in List):\n",
    "        raise ValueError(\"All numbers must be positive.\")\n",
    "    return st.gmean(List)\n",
    "\n",
    "Gmean_is = find_Gmean([2,4,5,6])\n",
    "if Gmean_is:\n",
    "    print(\"Gmean:\", Gmean_is)"
   ]
  },
  {
   "cell_type": "code",
   "execution_count": 107,
   "id": "d31b20b0-a02b-47bf-82c8-664b6e66c05c",
   "metadata": {},
   "outputs": [
    {
     "name": "stdout",
     "output_type": "stream",
     "text": [
      "harmonic mean: 3.116883116883117\n"
     ]
    }
   ],
   "source": [
    "# (v) Create a program to calculate the harmonic mean of a list of values.\n",
    "def harmonic_mean(Values):\n",
    "    if not Values:\n",
    "        raise ValueError(\"Values must be present\")\n",
    "    n = len(Values)\n",
    "\n",
    "    if any(v <= 0 for v in Values):\n",
    "        raise ValueError(\"Values must be postive\")\n",
    "\n",
    "    upon_value = sum(1/V for V in Values)\n",
    "\n",
    "    return n/upon_value\n",
    "\n",
    "harmonic_mean_is = harmonic_mean([2,3,4,5])\n",
    "print(\"harmonic mean:\", harmonic_mean_is)"
   ]
  },
  {
   "cell_type": "code",
   "execution_count": 108,
   "id": "b041304a-48fd-4f94-ac51-f5088cdb9baf",
   "metadata": {},
   "outputs": [
    {
     "name": "stdout",
     "output_type": "stream",
     "text": [
      "Midrange is: 3.5\n"
     ]
    }
   ],
   "source": [
    "# (vi) Build a function to determine the midrange of a list of numbers (average of the minimum and maximum).\n",
    "\n",
    "def MidRange(List):\n",
    "    if not List:\n",
    "        raise ValueError(\"List must be present\")\n",
    "\n",
    "    min_val = min(List)\n",
    "    max_val = max(List)\n",
    "\n",
    "    return (min_val + max_val)/2\n",
    "\n",
    "mid_range_is = MidRange([2,3,4,5])\n",
    "print(\"Midrange is:\", mid_range_is)"
   ]
  },
  {
   "cell_type": "code",
   "execution_count": 109,
   "id": "008a499e-12e0-4e36-9100-ed8e15d79845",
   "metadata": {},
   "outputs": [
    {
     "name": "stdout",
     "output_type": "stream",
     "text": [
      "Trimmed Mean: 16.714285714285715\n"
     ]
    }
   ],
   "source": [
    "# (vii) Implement a Python program to find the trimmed mean of a list, excluding a certain percentage of outliers.\n",
    "\n",
    "def trimmed_mean(Values, proportion_to_cut):\n",
    "    if not 0 <= proportion_to_cut < 0.5:\n",
    "        raise ValueError(\"proportion_to_cut must be between 0 and 0.5\")\n",
    "\n",
    "    return st.trim_mean(values, proportion_to_cut)\n",
    "\n",
    "values = [1, 2, 2, 3, 4, 5, 100]\n",
    "proportion_to_cut = 0.1  # Exclude 10% from each end\n",
    "print(\"Trimmed Mean:\", trimmed_mean(values, proportion_to_cut))"
   ]
  },
  {
   "cell_type": "code",
   "execution_count": 110,
   "id": "e6ece144-d13b-4660-877f-96aef4928490",
   "metadata": {},
   "outputs": [],
   "source": [
    " # 2. Generate a list of 500 integers containing values between 200 to 300 and store it in the variable `int_list2`. After generating the list, find the following:\n",
    "int_list2 = np.random.randint(200, 300, 500)"
   ]
  },
  {
   "cell_type": "code",
   "execution_count": 111,
   "id": "a7720d0f-3627-4ff5-b58e-df0422c2bcd0",
   "metadata": {},
   "outputs": [],
   "source": [
    "# (i) Compare the given list of visualization for the given data:"
   ]
  },
  {
   "cell_type": "code",
   "execution_count": 112,
   "id": "68e8e73e-f858-48f4-9968-1b34ea1a09aa",
   "metadata": {},
   "outputs": [
    {
     "data": {
      "image/png": "[encoded data removed]",
      "text/plain": [
       "<Figure size 1000x600 with 1 Axes>"
      ]
     },
     "metadata": {},
     "output_type": "display_data"
    }
   ],
   "source": [
    "# 1. Frequency & Gaussian distribution\n",
    "plt.figure(figsize=(10, 6))\n",
    "sns.histplot(int_list2, bins=20, kde=False, color='blue', stat='density', label='Frequency Distribution')\n",
    "\n",
    "mean, std = norm.fit(int_list2)\n",
    "xmin, xmax = plt.xlim()\n",
    "x = np.linspace(xmin, xmax, 100)\n",
    "p = norm.pdf(x, mean, std)\n",
    "plt.plot(x, p, 'r--', label='Gaussian Distribution')\n",
    "\n",
    "plt.xlabel('Value')\n",
    "plt.ylabel('Density')\n",
    "plt.title('Frequency Distribution and Gaussian Distribution of int_list2')\n",
    "plt.legend()\n",
    "plt.show()"
   ]
  },
  {
   "cell_type": "code",
   "execution_count": 113,
   "id": "4fdf85c1-22a2-449b-9ecd-20500d5a39c2",
   "metadata": {},
   "outputs": [
    {
     "data": {
      "image/png": "[encoded data removed]",
      "text/plain": [
       "<Figure size 1000x600 with 1 Axes>"
      ]
     },
     "metadata": {},
     "output_type": "display_data"
    }
   ],
   "source": [
    " # 2. Frequency smoothened KDE plot\n",
    "\n",
    "plt.figure(figsize=(10, 6))\n",
    "sns.kdeplot(int_list2, color='purple', fill=True, label='KDE Plot')\n",
    "plt.xlabel('Value')\n",
    "plt.ylabel('Density')\n",
    "plt.title('Smoothened KDE Plot of int_list2')\n",
    "plt.legend()\n",
    "plt.show()"
   ]
  },
  {
   "cell_type": "code",
   "execution_count": 114,
   "id": "e7d6de4f-a5f1-4ee3-a5e0-74a4b8b7e5f5",
   "metadata": {},
   "outputs": [
    {
     "data": {
      "image/png": "[encoded data removed]",
      "text/plain": [
       "<Figure size 1000x600 with 1 Axes>"
      ]
     },
     "metadata": {},
     "output_type": "display_data"
    }
   ],
   "source": [
    " # 3. Gaussian distribution & smoothened KDE plot\n",
    "\n",
    "plt.figure(figsize=(10, 6))\n",
    "sns.kdeplot(int_list2, color='blue', fill=True, label='KDE Plot')\n",
    "\n",
    "mean, std = norm.fit(int_list2)\n",
    "xmin, xmax = plt.xlim()\n",
    "x = np.linspace(xmin, xmax, 100)\n",
    "p = norm.pdf(x, mean, std)\n",
    "plt.plot(x, p, 'r--', label='Gaussian Distribution')\n",
    "\n",
    "plt.xlabel('Value')\n",
    "plt.ylabel('Density')\n",
    "plt.title('Gaussian Distribution and Smoothened KDE Plot of int_list2')\n",
    "plt.legend()\n",
    "plt.show()"
   ]
  },
  {
   "cell_type": "code",
   "execution_count": 115,
   "id": "796e4901-4109-4f7a-9f11-595adf366bfc",
   "metadata": {},
   "outputs": [
    {
     "name": "stdout",
     "output_type": "stream",
     "text": [
      "Range: 40\n"
     ]
    }
   ],
   "source": [
    " # (ii) Write a Python function to calculate the range of a given list of numbers.\n",
    "\n",
    "def calculate_range(numbers):\n",
    "    if not numbers:\n",
    "        raise ValueError(\"The list of numbers must not be empty.\")\n",
    "    \n",
    "    return max(numbers) - min(numbers)\n",
    "\n",
    "numbers = [10, 20, 30, 40, 50]\n",
    "print(\"Range:\", calculate_range(numbers))"
   ]
  },
  {
   "cell_type": "code",
   "execution_count": 116,
   "id": "0b48f732-da8c-420d-a835-d38d35c8aa45",
   "metadata": {},
   "outputs": [
    {
     "name": "stdout",
     "output_type": "stream",
     "text": [
      "Variance: 250.0\n",
      "Standard Deviation: 15.811388300841896\n"
     ]
    }
   ],
   "source": [
    " # (iii) Create a program to find the variance and standard deviation of a list of numbers.\n",
    "\n",
    "def calculate_variance_std(numbers):\n",
    "    if not numbers:\n",
    "        raise ValueError(\"The list of numbers must not be empty.\")\n",
    "    \n",
    "    numbers_array = np.array(numbers)\n",
    "    variance = np.var(numbers_array, ddof=1)\n",
    "    std_deviation = np.sqrt(variance)\n",
    "    \n",
    "    return variance, std_deviation\n",
    "\n",
    "\n",
    "numbers = [10, 20, 30, 40, 50]\n",
    "variance, std_deviation = calculate_variance_std(numbers)\n",
    "print(\"Variance:\", variance)\n",
    "print(\"Standard Deviation:\", std_deviation)"
   ]
  },
  {
   "cell_type": "code",
   "execution_count": 117,
   "id": "50776934-a41b-4d5e-8acf-db4d7e261784",
   "metadata": {},
   "outputs": [
    {
     "name": "stdout",
     "output_type": "stream",
     "text": [
      "Interquartile Range (IQR): 45.0\n"
     ]
    }
   ],
   "source": [
    "# (iv) Implement a function to compute the interquartile range (IQR) of a list of values.\n",
    "\n",
    "def compute_iqr(values):\n",
    "    if not values:\n",
    "        raise ValueError(\"The list of values must not be empty.\")\n",
    "\n",
    "    values_array = np.array(values)\n",
    "\n",
    "    q1 = np.percentile(values_array, 25)\n",
    "    q3 = np.percentile(values_array, 75)\n",
    "    \n",
    "    iqr = q3 - q1\n",
    "    \n",
    "    return iqr\n",
    "\n",
    "values = [10, 20, 30, 40, 50, 60, 70, 80, 90, 100]\n",
    "iqr = compute_iqr(values)\n",
    "print(\"Interquartile Range (IQR):\", iqr)"
   ]
  },
  {
   "cell_type": "code",
   "execution_count": 118,
   "id": "b838f09a-7407-46bc-9dfe-f115fa217ec3",
   "metadata": {},
   "outputs": [
    {
     "name": "stdout",
     "output_type": "stream",
     "text": [
      "Coefficient of Variation (CV): 47.14%\n"
     ]
    }
   ],
   "source": [
    "# (v) Build a program to calculate the coefficient of variation for a dataset.\n",
    "\n",
    "def calculate_coefficient_of_variation(data):\n",
    "    if not data:\n",
    "        raise ValueError(\"The dataset must not be empty.\")\n",
    "    \n",
    "    data_array = np.array(data)\n",
    "    \n",
    "    mean = np.mean(data_array)\n",
    "    std_dev = np.std(data_array, ddof=0)\n",
    "    \n",
    "    if mean == 0:\n",
    "        raise ValueError(\"Mean of the dataset is zero, cannot compute CV.\")\n",
    "    \n",
    "    cv = (std_dev / mean) * 100\n",
    "    \n",
    "    return cv\n",
    "\n",
    "data = [10, 20, 30, 40, 50]\n",
    "cv = calculate_coefficient_of_variation(data)\n",
    "print(\"Coefficient of Variation (CV): {:.2f}%\".format(cv))"
   ]
  },
  {
   "cell_type": "code",
   "execution_count": 119,
   "id": "66758003-68e3-4bdf-ac17-8aeab07aa02e",
   "metadata": {},
   "outputs": [
    {
     "name": "stdout",
     "output_type": "stream",
     "text": [
      "Mean Absolute Deviation (MAD): 12.0\n"
     ]
    }
   ],
   "source": [
    "# (vi) Write a Python function to find the mean absolute deviation (MAD) of a list of numbers.\n",
    "\n",
    "def mean_absolute_deviation(numbers):\n",
    "    if not numbers:\n",
    "        raise ValueError(\"The list of numbers must not be empty.\")\n",
    "\n",
    "    numbers_array = np.array(numbers)\n",
    "    \n",
    "    mean = np.mean(numbers_array)\n",
    "    \n",
    "    absolute_deviations = np.abs(numbers_array - mean)\n",
    "    \n",
    "    mad = np.mean(absolute_deviations)\n",
    "    \n",
    "    return mad\n",
    "\n",
    "numbers = [10, 20, 30, 40, 50]\n",
    "mad = mean_absolute_deviation(numbers)\n",
    "print(\"Mean Absolute Deviation (MAD):\", mad)"
   ]
  },
  {
   "cell_type": "code",
   "execution_count": 120,
   "id": "3690742b-22e6-41ec-a856-0144a5315c8e",
   "metadata": {},
   "outputs": [
    {
     "name": "stdout",
     "output_type": "stream",
     "text": [
      "Quartile Deviation (QD): 22.5\n"
     ]
    }
   ],
   "source": [
    "# (vii) Create a program to calculate the quartile deviation of a list of values.\n",
    "\n",
    "def quartile_deviation(values):\n",
    "    if not values:\n",
    "        raise ValueError(\"The list of values must not be empty.\")\n",
    "    \n",
    "    values_array = np.array(values)\n",
    "    \n",
    "    q1 = np.percentile(values_array, 25)\n",
    "    q3 = np.percentile(values_array, 75)\n",
    "    \n",
    "    qd = (q3 - q1) / 2\n",
    "    \n",
    "    return qd\n",
    "\n",
    "values = [10, 20, 30, 40, 50, 60, 70, 80, 90, 100]\n",
    "qd = quartile_deviation(values)\n",
    "print(\"Quartile Deviation (QD):\", qd)"
   ]
  },
  {
   "cell_type": "code",
   "execution_count": 121,
   "id": "216522a3-4532-4e45-b8d9-3234aa387cfa",
   "metadata": {},
   "outputs": [
    {
     "name": "stdout",
     "output_type": "stream",
     "text": [
      "Range-Based Coefficient of Dispersion (CD): 133.33%\n"
     ]
    }
   ],
   "source": [
    "# (viii) Implement a function to find the range-based coefficient of dispersion for a dataset.\n",
    "\n",
    "def range_based_coefficient_of_dispersion(data):\n",
    "    if not data:\n",
    "        raise ValueError(\"The dataset must not be empty.\")\n",
    "    \n",
    "    data_array = np.array(data)\n",
    "    \n",
    "    mean = np.mean(data_array)\n",
    "    data_range = np.max(data_array) - np.min(data_array)\n",
    "    \n",
    "    if mean == 0:\n",
    "        raise ValueError(\"Mean of the dataset is zero, cannot compute Coefficient of Dispersion.\")\n",
    "    \n",
    "    cd = (data_range / mean) * 100\n",
    "    \n",
    "    return cd\n",
    "\n",
    "data = [10, 20, 30, 40, 50]\n",
    "cd = range_based_coefficient_of_dispersion(data)\n",
    "print(\"Range-Based Coefficient of Dispersion (CD): {:.2f}%\".format(cd))"
   ]
  },
  {
   "cell_type": "code",
   "execution_count": 122,
   "id": "7203130e-f8ec-4ffa-ae39-6a1b74791011",
   "metadata": {},
   "outputs": [
    {
     "name": "stdout",
     "output_type": "stream",
     "text": [
      "Expected Value (Mean): 2.0999999999999996\n",
      "Variance: 0.49\n"
     ]
    }
   ],
   "source": [
    "# 3 Write a Python class representing a discrete random variable with methods to calculate its expected value and variance.\n",
    "\n",
    "class DiscreteRandomVariable:\n",
    "    def __init__(self, probabilities, values):\n",
    "        \n",
    "        if len(probabilities) != len(values):\n",
    "            raise ValueError(\"Probabilities and values must have the same length.\")\n",
    "        if not np.isclose(sum(probabilities), 1):\n",
    "            raise ValueError(\"The sum of probabilities must be 1.\")\n",
    "        \n",
    "        self.probabilities = np.array(probabilities)\n",
    "        self.values = np.array(values)\n",
    "    \n",
    "    def expected_value(self):\n",
    "        \n",
    "        return np.sum(self.values * self.probabilities)\n",
    "    \n",
    "    def variance(self):\n",
    "        \n",
    "        mean = self.expected_value()\n",
    "        return np.sum(self.probabilities * (self.values - mean)**2)\n",
    "\n",
    "probabilities = [0.2, 0.5, 0.3]\n",
    "values = [1, 2, 3]\n",
    "\n",
    "random_variable = DiscreteRandomVariable(probabilities, values)\n",
    "\n",
    "print(\"Expected Value (Mean):\", random_variable.expected_value())\n",
    "print(\"Variance:\", random_variable.variance())"
   ]
  },
  {
   "cell_type": "code",
   "execution_count": 123,
   "id": "a00d89e2-f61c-49f3-83c9-7ec59858ef0d",
   "metadata": {},
   "outputs": [
    {
     "name": "stdout",
     "output_type": "stream",
     "text": [
      "Expected Value (Mean) of Die Rolls: 3.4866\n",
      "Variance of Die Rolls: 2.9268204399999997\n"
     ]
    }
   ],
   "source": [
    "# 4. Implement a program to simulate the rolling of a fair six-sided die and calculate the expected value and variance of the outcomes.\n",
    "\n",
    "class FairDieSimulation:\n",
    "    def __init__(self, num_rolls):\n",
    "\n",
    "        if num_rolls <= 0:\n",
    "            raise ValueError(\"Number of rolls must be a positive integer.\")\n",
    "        \n",
    "        self.num_rolls = num_rolls\n",
    "        self.rolls = self.simulate_rolls()\n",
    "    \n",
    "    def simulate_rolls(self):\n",
    "\n",
    "        return np.random.randint(1, 7, self.num_rolls)\n",
    "    \n",
    "    def expected_value(self):\n",
    "        \n",
    "        return np.mean(self.rolls)\n",
    "    \n",
    "    def variance(self):\n",
    "\n",
    "        return np.var(self.rolls, ddof=0)\n",
    "\n",
    "\n",
    "num_rolls = 10000\n",
    "die_simulation = FairDieSimulation(num_rolls)\n",
    "\n",
    "print(\"Expected Value (Mean) of Die Rolls:\", die_simulation.expected_value())\n",
    "print(\"Variance of Die Rolls:\", die_simulation.variance())"
   ]
  },
  {
   "cell_type": "code",
   "execution_count": 124,
   "id": "422dc7d0-db73-4bd6-a128-5f1650775d68",
   "metadata": {},
   "outputs": [
    {
     "name": "stdout",
     "output_type": "stream",
     "text": [
      "Binomial Distribution - Mean: 4.9596\n",
      "Binomial Distribution - Variance: 2.5233678400000006\n",
      "Poisson Distribution - Mean: 5.006\n",
      "Poisson Distribution - Variance: 5.016563999999999\n"
     ]
    }
   ],
   "source": [
    "# 5. Create a Python function to generate random samples from a given probability distribution (e.g., binomial, Poisson) and calculate their mean and variance.\n",
    "\n",
    "def generate_samples_and_stats(distribution, params, num_samples):\n",
    "    \n",
    "    if num_samples <= 0:\n",
    "        raise ValueError(\"Number of samples must be a positive integer.\")\n",
    "    \n",
    "    if distribution == 'binomial':\n",
    "        n, p = params\n",
    "        samples = np.random.binomial(n, p, num_samples)\n",
    "    elif distribution == 'poisson':\n",
    "        lam = params[0]\n",
    "        samples = np.random.poisson(lam, num_samples)\n",
    "    else:\n",
    "        raise ValueError(\"Unsupported distribution type. Use 'binomial' or 'poisson'.\")\n",
    "    \n",
    "    mean = np.mean(samples)\n",
    "    variance = np.var(samples, ddof=0)\n",
    "    \n",
    "    return mean, variance\n",
    "\n",
    "# Binomial distribution\n",
    "binomial_mean, binomial_variance = generate_samples_and_stats('binomial', (10, 0.5), 10000)\n",
    "print(\"Binomial Distribution - Mean:\", binomial_mean)\n",
    "print(\"Binomial Distribution - Variance:\", binomial_variance)\n",
    "\n",
    "# Poisson distribution\n",
    "poisson_mean, poisson_variance = generate_samples_and_stats('poisson', (5,), 10000)\n",
    "print(\"Poisson Distribution - Mean:\", poisson_mean)\n",
    "print(\"Poisson Distribution - Variance:\", poisson_variance)"
   ]
  },
  {
   "cell_type": "code",
   "execution_count": 125,
   "id": "994b254a-ca6d-4c6a-b90b-c9a19e75373d",
   "metadata": {},
   "outputs": [
    {
     "name": "stdout",
     "output_type": "stream",
     "text": [
      "Mean of the samples: 0.007075322182113743\n",
      "Variance of the samples: 0.9807180218524083\n",
      "Standard Deviation of the samples: 0.9903120830588751\n"
     ]
    }
   ],
   "source": [
    "# 6. Write a Python script to generate random numbers from a Gaussian (normal) distribution and compute the mean, variance, and standard deviation o6 the samples.\n",
    "\n",
    "def generate_normal_samples_and_stats(mean, std_dev, num_samples):\n",
    "\n",
    "    if num_samples <= 0:\n",
    "        raise ValueError(\"Number of samples must be a positive integer.\")\n",
    "    \n",
    "    samples = np.random.normal(loc=mean, scale=std_dev, size=num_samples)\n",
    "    \n",
    "    sample_mean = np.mean(samples)\n",
    "    sample_variance = np.var(samples, ddof=0)\n",
    "    sample_std_dev = np.std(samples, ddof=0)\n",
    "    \n",
    "    return sample_mean, sample_variance, sample_std_dev\n",
    "\n",
    "mean = 0\n",
    "std_dev = 1\n",
    "num_samples = 10000\n",
    "\n",
    "mean_value, variance_value, std_dev_value = generate_normal_samples_and_stats(mean, std_dev, num_samples)\n",
    "\n",
    "print(\"Mean of the samples:\", mean_value)\n",
    "print(\"Variance of the samples:\", variance_value)\n",
    "print(\"Standard Deviation of the samples:\", std_dev_value)"
   ]
  },
  {
   "cell_type": "code",
   "execution_count": 126,
   "id": "de23a333-a8a8-4818-93f2-3850377ab2b9",
   "metadata": {},
   "outputs": [],
   "source": [
    "# 7. Use seaborn library to load tips dataset. Find the following from the dataset for the columns total_bill and tip`:"
   ]
  },
  {
   "cell_type": "code",
   "execution_count": 127,
   "id": "2f415f85-9a1c-4e53-8647-70e267fe1899",
   "metadata": {},
   "outputs": [
    {
     "name": "stdout",
     "output_type": "stream",
     "text": [
      "Skewness of 'total_bill': 1.1262346334818638\n",
      "Skewness of 'tip': 1.4564266884221506\n"
     ]
    }
   ],
   "source": [
    "# (i) Write a Python functnon that calculates their skewness.\n",
    "\n",
    "def calculate_skewness(column):\n",
    "    return skew(column.dropna())\n",
    "\n",
    "\n",
    "tips = sns.load_dataset('tips')\n",
    "\n",
    "# Calculate skewness for 'total_bill' and 'tip'\n",
    "total_bill_skewness = calculate_skewness(tips['total_bill'])\n",
    "tip_skewness = calculate_skewness(tips['tip'])\n",
    "\n",
    "print(\"Skewness of 'total_bill':\", total_bill_skewness)\n",
    "print(\"Skewness of 'tip':\", tip_skewness)"
   ]
  },
  {
   "cell_type": "code",
   "execution_count": 128,
   "id": "fffc6f1e-307c-42d9-ace5-b7e77d263ac9",
   "metadata": {},
   "outputs": [
    {
     "name": "stdout",
     "output_type": "stream",
     "text": [
      "Skewness of 'total_bill': 1.1262346334818638 - Positive Skewness\n",
      "Skewness of 'tip': 1.4564266884221506 - Positive Skewness\n"
     ]
    }
   ],
   "source": [
    "# (ii) Create a program that determines whether the columns exhibit positive skewness, negative skewness, or is approximately symmetric.\n",
    "\n",
    "def calculate_skewness(column):\n",
    "    return skew(column.dropna())\n",
    "\n",
    "def determine_skewness_type(skewness, threshold=0.1):\n",
    "    if skewness > threshold:\n",
    "        return \"Positive Skewness\"\n",
    "    elif skewness < -threshold:\n",
    "        return \"Negative Skewness\"\n",
    "    else:\n",
    "        return \"Approximately Symmetric\"\n",
    "\n",
    "# Load the tips dataset\n",
    "tips = sns.load_dataset('tips')\n",
    "\n",
    "# Calculate skewness for 'total_bill' and 'tip'\n",
    "total_bill_skewness = calculate_skewness(tips['total_bill'])\n",
    "tip_skewness = calculate_skewness(tips['tip'])\n",
    "\n",
    "# Determine skewness type\n",
    "total_bill_skewness_type = determine_skewness_type(total_bill_skewness)\n",
    "tip_skewness_type = determine_skewness_type(tip_skewness)\n",
    "\n",
    "print(\"Skewness of 'total_bill':\", total_bill_skewness, \"-\", total_bill_skewness_type)\n",
    "print(\"Skewness of 'tip':\", tip_skewness, \"-\", tip_skewness_type)"
   ]
  },
  {
   "cell_type": "code",
   "execution_count": 129,
   "id": "b1af38e3-68a8-4b47-8743-6d3bd479b753",
   "metadata": {},
   "outputs": [
    {
     "name": "stdout",
     "output_type": "stream",
     "text": [
      "Covariance between 'total_bill' and 'tip': 8.289388917629669\n"
     ]
    }
   ],
   "source": [
    "# (iii) Write a Function that calculates the covariance between two columns.\n",
    "\n",
    "def calculate_covariance(column1, column2):\n",
    "    if len(column1) != len(column2):\n",
    "        raise ValueError(\"Both columns must have the same length.\")\n",
    "    \n",
    "    # Drop missing values\n",
    "    column1 = column1.dropna()\n",
    "    column2 = column2.dropna()\n",
    "    \n",
    "    # Ensure both series have the same length after dropping NA values\n",
    "    if len(column1) != len(column2):\n",
    "        raise ValueError(\"After dropping NA values, columns must have the same length.\")\n",
    "    \n",
    "    # Calculate covariance using numpy\n",
    "    covariance = np.cov(column1, column2, ddof=0)[0, 1]\n",
    "    \n",
    "    return covariance\n",
    "\n",
    "# Load the tips dataset\n",
    "tips = sns.load_dataset('tips')\n",
    "\n",
    "covariance_total_bill_tip = calculate_covariance(tips['total_bill'], tips['tip'])\n",
    "print(\"Covariance between 'total_bill' and 'tip':\", covariance_total_bill_tip)"
   ]
  },
  {
   "cell_type": "code",
   "execution_count": 130,
   "id": "ff869962-a4f8-42f7-92f5-80c05ff6e179",
   "metadata": {},
   "outputs": [
    {
     "name": "stdout",
     "output_type": "stream",
     "text": [
      "Pearson correlation coefficient between 'total_bill' and 'tip': 0.6757341092113645\n"
     ]
    }
   ],
   "source": [
    "# (iv) Implement a Python program that calculates the Pearson correlation coefficient between two columns.\n",
    "\n",
    "def calculate_pearson_correlation(column1, column2):\n",
    "\n",
    "    if len(column1) != len(column2):\n",
    "        raise ValueError(\"Both columns must have the same length.\")\n",
    "    \n",
    "    # Drop missing values\n",
    "    column1 = column1.dropna()\n",
    "    column2 = column2.dropna()\n",
    "    \n",
    "    # Ensure both series have the same length after dropping NA values\n",
    "    if len(column1) != len(column2):\n",
    "        raise ValueError(\"After dropping NA values, columns must have the same length.\")\n",
    "    \n",
    "    # Calculate Pearson correlation coefficient using numpy\n",
    "    correlation_matrix = np.corrcoef(column1, column2)\n",
    "    pearson_correlation = correlation_matrix[0, 1]\n",
    "    \n",
    "    return pearson_correlation\n",
    "\n",
    "# Load the tips dataset\n",
    "tips = sns.load_dataset('tips')\n",
    "\n",
    "# Calculate Pearson correlation coefficient between 'total_bill' and 'tip'\n",
    "pearson_correlation_total_bill_tip = calculate_pearson_correlation(tips['total_bill'], tips['tip'])\n",
    "print(\"Pearson correlation coefficient between 'total_bill' and 'tip':\", pearson_correlation_total_bill_tip)"
   ]
  },
  {
   "cell_type": "code",
   "execution_count": 131,
   "id": "71860681-6a19-49b6-ae13-ed1ee84b56ac",
   "metadata": {},
   "outputs": [
    {
     "data": {
      "image/png": "[encoded data removed]",
      "text/plain": [
       "<Figure size 1000x600 with 1 Axes>"
      ]
     },
     "metadata": {},
     "output_type": "display_data"
    }
   ],
   "source": [
    "# (v) Write a script to visualize the correlation between two specific columns in a Pandas DataFrame using scatter plots.\n",
    "\n",
    "def plot_correlation_scatter(df, col1, col2):\n",
    "    \n",
    "    if col1 not in df.columns or col2 not in df.columns:\n",
    "        raise ValueError(f\"Both columns must be present in the DataFrame. Available columns: {df.columns.tolist()}\")\n",
    "\n",
    "    # Create scatter plot with regression line\n",
    "    plt.figure(figsize=(10, 6))\n",
    "    sns.regplot(x=col1, y=col2, data=df, scatter_kws={'s':50}, line_kws={'color':'red'})\n",
    "    \n",
    "    # Set plot title and labels\n",
    "    plt.title(f'Scatter Plot of {col1} vs {col2}')\n",
    "    plt.xlabel(col1)\n",
    "    plt.ylabel(col2)\n",
    "    plt.grid(True)\n",
    "    plt.show()\n",
    "\n",
    "# Load the tips dataset\n",
    "tips = sns.load_dataset('tips')\n",
    "\n",
    "# Plot the correlation between 'total_bill' and 'tip'\n",
    "plot_correlation_scatter(tips, 'total_bill', 'tip')"
   ]
  },
  {
   "cell_type": "code",
   "execution_count": 132,
   "id": "ec81c131-d226-4f65-9230-6c47c55c6858",
   "metadata": {},
   "outputs": [
    {
     "name": "stdout",
     "output_type": "stream",
     "text": [
      "PDF value at x=0 for N(mean=0, std_dev=1): 0.3989422804014327\n"
     ]
    }
   ],
   "source": [
    "# 8. Write a Python function to calculate the probability density function (PDF) of a continuous random variable for a given normal distribution.\n",
    "\n",
    "def calculate_pdf(x, mean, std_dev):\n",
    "    return norm.pdf(x, loc=mean, scale=std_dev)\n",
    "\n",
    "mean = 0\n",
    "std_dev = 1\n",
    "x = 0\n",
    "\n",
    "pdf_value = calculate_pdf(x, mean, std_dev)\n",
    "print(f\"PDF value at x={x} for N(mean={mean}, std_dev={std_dev}):\", pdf_value)"
   ]
  },
  {
   "cell_type": "code",
   "execution_count": 133,
   "id": "b05c8c86-7f43-4eba-80a6-65972bd719e2",
   "metadata": {},
   "outputs": [
    {
     "name": "stdout",
     "output_type": "stream",
     "text": [
      "CDF value at x=2 for Exponential(scale=1): 0.8646647167633873\n"
     ]
    }
   ],
   "source": [
    "# 9 Create a program to calculate the cumulative distribution function (CDF) of exponential distribution.\n",
    "\n",
    "def calculate_cdf(x, scale):\n",
    "    return expon.cdf(x, scale=scale)\n",
    "\n",
    "scale = 1\n",
    "x = 2\n",
    "\n",
    "cdf_value = calculate_cdf(x, scale)\n",
    "print(f\"CDF value at x={x} for Exponential(scale={scale}):\", cdf_value)"
   ]
  },
  {
   "cell_type": "code",
   "execution_count": 134,
   "id": "a57c884c-62b9-4100-9c3f-494c255213c4",
   "metadata": {},
   "outputs": [
    {
     "name": "stdout",
     "output_type": "stream",
     "text": [
      "PMF value for k=4 with Poisson(lambda=3): 0.16803135574154085\n"
     ]
    }
   ],
   "source": [
    "# 10. Write a Python function to calculate the probability mass function (PMF) of Poisson distribution.\n",
    "\n",
    "def calculate_pmf(k, lambda_):\n",
    "    return poisson.pmf(k, mu=lambda_)\n",
    "\n",
    "lambda_ = 3  # Average rate (mean) of events\n",
    "k = 4        # Number of events\n",
    "\n",
    "pmf_value = calculate_pmf(k, lambda_)\n",
    "print(f\"PMF value for k={k} with Poisson(lambda={lambda_}):\", pmf_value)"
   ]
  },
  {
   "cell_type": "code",
   "execution_count": 135,
   "id": "586e3a94-3a91-48e8-b732-7d2e86c5f8b9",
   "metadata": {},
   "outputs": [
    {
     "name": "stdout",
     "output_type": "stream",
     "text": [
      "Z-test statistic: -1.883108942886774\n",
      "P-value: 0.9701571972337869\n",
      "There is not enough evidence to suggest the new layout is better.\n"
     ]
    }
   ],
   "source": [
    "# 11. A company wants to test if a new website layout leads to a higher conversion rate (percentage of visitors who make a purchase). They collect data Nrom the old and new layouts to compare.\n",
    "\n",
    "# old_layout and new_layout given\n",
    "old_layout = np.array([1] * 50 + [0] * 950)\n",
    "new_layout = np.array([1] * 70 + [0] * 930)\n",
    "\n",
    "# Calculate sample sizes\n",
    "n1 = len(old_layout)\n",
    "n2 = len(new_layout)\n",
    "\n",
    "# Calculate the number of successes\n",
    "x1 = np.sum(old_layout)\n",
    "x2 = np.sum(new_layout)\n",
    "\n",
    "# Calculate sample proportions\n",
    "p1 = x1 / n1\n",
    "p2 = x2 / n2\n",
    "\n",
    "# Pooled proportion\n",
    "p = (x1 + x2) / (n1 + n2)\n",
    "\n",
    "# Standard error\n",
    "se = np.sqrt(p * (1 - p) * (1 / n1 + 1 / n2))\n",
    "\n",
    "# Z-test statistic\n",
    "z = (p1 - p2) / se\n",
    "\n",
    "# P-value\n",
    "p_value = 1 - st.norm.cdf(z)\n",
    "\n",
    "# Output results\n",
    "print(f\"Z-test statistic: {z}\")\n",
    "print(f\"P-value: {p_value}\")\n",
    "\n",
    "# Interpret the result\n",
    "alpha = 0.05\n",
    "if p_value < alpha:\n",
    "    print(\"The new layout has a significantly higher conversion rate.\")\n",
    "else:\n",
    "    print(\"There is not enough evidence to suggest the new layout is better.\")"
   ]
  },
  {
   "cell_type": "code",
   "execution_count": 136,
   "id": "ff7ceab5-18c1-4534-966d-7e276daa19b5",
   "metadata": {},
   "outputs": [
    {
     "name": "stdout",
     "output_type": "stream",
     "text": [
      "T-statistic: 4.593190894944668\n",
      "P-value: 0.0013030932910086035\n",
      "There is a significant improvement in scores after the program.\n"
     ]
    }
   ],
   "source": [
    "# 12. A tutoring service claims that its program improves students exam scores. A sample of students who participated in the program was taken, and their scores before and after the program were recorded.\n",
    "\n",
    "# givent scores \n",
    "before_program = np.array([75, 80, 85, 70, 90, 78, 92, 88, 82, 87])\n",
    "after_program = np.array([80, 85, 90, 80, 92, 80, 95, 90, 85, 88])\n",
    "\n",
    "# Calculate the differences\n",
    "differences = after_program - before_program\n",
    "\n",
    "# Perform the paired sample t-test\n",
    "t_statistic, p_value = st.ttest_rel(after_program, before_program)\n",
    "\n",
    "# Output results\n",
    "print(f\"T-statistic: {t_statistic}\")\n",
    "print(f\"P-value: {p_value}\")\n",
    "\n",
    "# Interpret the result\n",
    "alpha = 0.05\n",
    "if p_value < alpha:\n",
    "    print(\"There is a significant improvement in scores after the program.\")\n",
    "else:\n",
    "    print(\"There is not enough evidence to suggest a significant improvement in scores.\")"
   ]
  },
  {
   "cell_type": "code",
   "execution_count": 137,
   "id": "75a965c1-a0a2-4f0a-9335-8be2fd4ecac7",
   "metadata": {},
   "outputs": [
    {
     "name": "stdout",
     "output_type": "stream",
     "text": [
      "T-statistic: -10.04987562112089\n",
      "P-value: 3.433031432681152e-06\n",
      "The drug significantly reduces blood pressure.\n"
     ]
    }
   ],
   "source": [
    "# 13. A pharmaceutical company wants to determine if a new drug is effective in reducing blood pressure. They conduct a study and record blood pressure measurements beNore and aNter administering the drug.\n",
    "\n",
    "before_drug = np.array([145, 150, 140, 135, 155, 160, 152, 148, 130, 138])\n",
    "after_drug = np.array([130, 140, 132, 128, 145, 148, 138, 136, 125, 130])\n",
    "\n",
    "# Calculate the differences\n",
    "differences = after_drug - before_drug\n",
    "\n",
    "# Perform the paired sample t-test\n",
    "t_statistic, p_value = st.ttest_rel(after_drug, before_drug)\n",
    "\n",
    "# Output results\n",
    "print(f\"T-statistic: {t_statistic}\")\n",
    "print(f\"P-value: {p_value}\")\n",
    "\n",
    "# Interpret the result\n",
    "alpha = 0.05\n",
    "if p_value < alpha:\n",
    "    print(\"The drug significantly reduces blood pressure.\")\n",
    "else:\n",
    "    print(\"There is not enough evidence to suggest the drug reduces blood pressure.\")"
   ]
  },
  {
   "cell_type": "code",
   "execution_count": 138,
   "id": "b17c63d2-b215-4bc7-b938-5d835f8e427e",
   "metadata": {},
   "outputs": [
    {
     "name": "stdout",
     "output_type": "stream",
     "text": [
      "T-statistic: -3.1844572260429627\n",
      "P-value: 0.011104982316785018\n",
      "The average response time is significantly less than 5 minutes.\n"
     ]
    }
   ],
   "source": [
    "# 14. A customer service department claims that their average response time is less than 5 minutesV A sample of recent customer interactions was taken, and the response times were recorded.\n",
    "response_times = np.array([4.3, 3.8, 5.1, 4.9, 4.7, 4.2, 5.2, 4.5, 4.6, 4.4])\n",
    "\n",
    "# Known value (the claimed average response time)\n",
    "claimed_mean = 5\n",
    "\n",
    "# Perform the one-sample t-test\n",
    "t_statistic, p_value = st.ttest_1samp(response_times, claimed_mean)\n",
    "\n",
    "# Output results\n",
    "print(f\"T-statistic: {t_statistic}\")\n",
    "print(f\"P-value: {p_value}\")\n",
    "\n",
    "# Interpret the result\n",
    "alpha = 0.05\n",
    "if p_value < alpha and t_statistic < 0:\n",
    "    print(\"The average response time is significantly less than 5 minutes.\")\n",
    "else:\n",
    "    print(\"There is not enough evidence to suggest that the average response time is less than 5 minutes.\")"
   ]
  },
  {
   "cell_type": "code",
   "execution_count": 139,
   "id": "1276ca5e-e42f-4659-a5f9-9dc9be0f1656",
   "metadata": {},
   "outputs": [
    {
     "name": "stdout",
     "output_type": "stream",
     "text": [
      "T-statistic: -7.298102156175071\n",
      "Degrees of freedom: 17.879871863320876\n",
      "P-value: 9.196596070789357e-07\n",
      "There is a significant difference between the two layouts.\n"
     ]
    }
   ],
   "source": [
    "# 15. A company is testing two different website layouts to see which one leads to higher click-through rates. Write a Python function to perform an A/B test analysis, including calculating the t-statistic, degrees of freedom, and p-value.\n",
    "\n",
    "layout_a_clicks = [28, 32, 33, 29, 31, 34, 30, 35, 36, 37]\n",
    "layout_b_clicks = [40, 41, 38, 42, 39, 44, 43, 41, 45, 47]\n",
    "\n",
    "def ab_test_analysis(layout_a, layout_b):\n",
    "    # Calculate the means\n",
    "    mean_a = np.mean(layout_a)\n",
    "    mean_b = np.mean(layout_b)\n",
    "    \n",
    "    # Calculate the variances\n",
    "    var_a = np.var(layout_a, ddof=1)\n",
    "    var_b = np.var(layout_b, ddof=1)\n",
    "    \n",
    "    # Number of observations in each group\n",
    "    n_a = len(layout_a)\n",
    "    n_b = len(layout_b)\n",
    "    \n",
    "    # Calculate the t-statistic\n",
    "    t_statistic = (mean_a - mean_b) / np.sqrt((var_a/n_a) + (var_b/n_b))\n",
    "    \n",
    "    # Degrees of freedom\n",
    "    df = (((var_a/n_a) + (var_b/n_b))**2) / (((var_a/n_a)**2/(n_a-1)) + ((var_b/n_b)**2/(n_b-1)))\n",
    "    \n",
    "    # Calculate the p-value (two-tailed test)\n",
    "    p_value = st.t.sf(np.abs(t_statistic), df) * 2\n",
    "    \n",
    "    return t_statistic, df, p_value\n",
    "\n",
    "# Click-through rates for Layout A and Layout B\n",
    "layout_a_clicks = [28, 32, 33, 29, 31, 34, 30, 35, 36, 37]\n",
    "layout_b_clicks = [40, 41, 38, 42, 39, 44, 43, 41, 45, 47]\n",
    "\n",
    "# Perform the A/B test analysis\n",
    "t_stat, degrees_of_freedom, p_val = ab_test_analysis(layout_a_clicks, layout_b_clicks)\n",
    "\n",
    "# Output results\n",
    "print(f\"T-statistic: {t_stat}\")\n",
    "print(f\"Degrees of freedom: {degrees_of_freedom}\")\n",
    "print(f\"P-value: {p_val}\")\n",
    "\n",
    "# Interpret the result\n",
    "alpha = 0.05\n",
    "if p_val < alpha:\n",
    "    print(\"There is a significant difference between the two layouts.\")\n",
    "else:\n",
    "    print(\"There is no significant difference between the two layouts.\")"
   ]
  },
  {
   "cell_type": "code",
   "execution_count": 140,
   "id": "dd913b36-a85a-4905-9b9e-878c5abd7cad",
   "metadata": {},
   "outputs": [
    {
     "name": "stdout",
     "output_type": "stream",
     "text": [
      "T-statistic: 4.14048098620866\n",
      "Degrees of freedom: 17.866770765582338\n",
      "P-value: 0.0006229228945469307\n",
      "There is a significant difference between the effectiveness of the two drugs.\n"
     ]
    }
   ],
   "source": [
    "# 16. A pharmaceutical company wants to determine if a new drug is more effective than an existing drug in reducing cholesterol levels. Create a program to analyze the clinical trial data and calculate the tstatistic and p-value for the treatment effect.\n",
    "\n",
    "def analyze_treatment_effect(existing_drug, new_drug):\n",
    "    # Calculate the means\n",
    "    mean_existing = np.mean(existing_drug)\n",
    "    mean_new = np.mean(new_drug)\n",
    "    \n",
    "    # Calculate the variances\n",
    "    var_existing = np.var(existing_drug, ddof=1)\n",
    "    var_new = np.var(new_drug, ddof=1)\n",
    "    \n",
    "    # Number of observations in each group\n",
    "    n_existing = len(existing_drug)\n",
    "    n_new = len(new_drug)\n",
    "    \n",
    "    # Calculate the t-statistic\n",
    "    t_statistic = (mean_existing - mean_new) / np.sqrt((var_existing/n_existing) + (var_new/n_new))\n",
    "    \n",
    "    # Degrees of freedom\n",
    "    df = (((var_existing/n_existing) + (var_new/n_new))**2) / (((var_existing/n_existing)**2/(n_existing-1)) + ((var_new/n_new)**2/(n_new-1)))\n",
    "    \n",
    "    # Calculate the p-value (two-tailed test)\n",
    "    p_value = st.t.sf(np.abs(t_statistic), df) * 2\n",
    "    \n",
    "    return t_statistic, df, p_value\n",
    "\n",
    "# Cholesterol levels for the existing and new drugs\n",
    "existing_drug_levels = [180, 182, 175, 185, 178, 176, 172, 184, 179, 183]\n",
    "new_drug_levels = [170, 172, 165, 168, 175, 173, 170, 178, 172, 176]\n",
    "\n",
    "# Perform the analysis\n",
    "t_stat, degrees_of_freedom, p_val = analyze_treatment_effect(existing_drug_levels, new_drug_levels)\n",
    "\n",
    "# Output results\n",
    "print(f\"T-statistic: {t_stat}\")\n",
    "print(f\"Degrees of freedom: {degrees_of_freedom}\")\n",
    "print(f\"P-value: {p_val}\")\n",
    "\n",
    "# Interpret the result\n",
    "alpha = 0.05\n",
    "if p_val < alpha:\n",
    "    print(\"There is a significant difference between the effectiveness of the two drugs.\")\n",
    "else:\n",
    "    print(\"There is no significant difference between the effectiveness of the two drugs.\")"
   ]
  },
  {
   "cell_type": "code",
   "execution_count": 141,
   "id": "cc52a0df-8454-45cd-bb71-85db6895e457",
   "metadata": {},
   "outputs": [
    {
     "name": "stdout",
     "output_type": "stream",
     "text": [
      "T-statistic: 4.428408839657611\n",
      "Degrees of freedom: 9\n",
      "P-value: 0.0016509548165795493\n",
      "The intervention had a significant impact on math scores.\n"
     ]
    }
   ],
   "source": [
    "# 17. A school district introduces an educational intervention program to improve math scores. Write a Python function to analyze pre- and post-intervention test scores, calculating the t-statistic and p-value to determine if the intervention had a significant impact.\n",
    "\n",
    "def analyze_intervention(pre_scores, post_scores):\n",
    "    # Calculate the differences\n",
    "    differences = np.array(post_scores) - np.array(pre_scores)\n",
    "    \n",
    "    # Calculate the mean and standard deviation of the differences\n",
    "    mean_diff = np.mean(differences)\n",
    "    std_diff = np.std(differences, ddof=1)\n",
    "    \n",
    "    # Number of observations\n",
    "    n = len(differences)\n",
    "    \n",
    "    # Calculate the t-statistic\n",
    "    t_statistic = mean_diff / (std_diff / np.sqrt(n))\n",
    "    \n",
    "    # Degrees of freedom\n",
    "    df = n - 1\n",
    "    \n",
    "    # Calculate the p-value (two-tailed test)\n",
    "    p_value = st.t.sf(np.abs(t_statistic), df) * 2\n",
    "    \n",
    "    return t_statistic, df, p_value\n",
    "\n",
    "# Pre- and post-intervention math scores\n",
    "pre_intervention_scores = [80, 85, 90, 75, 88, 82, 92, 78, 85, 87]\n",
    "post_intervention_scores = [90, 92, 88, 92, 95, 91, 96, 93, 89, 93]\n",
    "\n",
    "# Perform the analysis\n",
    "t_stat, degrees_of_freedom, p_val = analyze_intervention(pre_intervention_scores, post_intervention_scores)\n",
    "\n",
    "# Output results\n",
    "print(f\"T-statistic: {t_stat}\")\n",
    "print(f\"Degrees of freedom: {degrees_of_freedom}\")\n",
    "print(f\"P-value: {p_val}\")\n",
    "\n",
    "# Interpret the result\n",
    "alpha = 0.05\n",
    "if p_val < alpha:\n",
    "    print(\"The intervention had a significant impact on math scores.\")\n",
    "else:\n",
    "    print(\"The intervention did not have a significant impact on math scores.\")"
   ]
  },
  {
   "cell_type": "code",
   "execution_count": 142,
   "id": "66890673-c6dd-4c18-9c74-fb5f7a0eee33",
   "metadata": {},
   "outputs": [
    {
     "name": "stdout",
     "output_type": "stream",
     "text": [
      "T-statistic: 0.06114208969631383\n",
      "Degrees of freedom: 36.166783312917644\n",
      "P-value: 0.9515826849267928\n",
      "There is no statistically significant difference between the average salaries of male and female employees.\n"
     ]
    }
   ],
   "source": [
    "# 18. An HR department wants to investigate if there's a gender-based salary gap within the company. Develop a program to analyze salary data, calculate the t-statistic, and determine if there's a statistically significant difference between the average salaries of male and female employees.\n",
    "\n",
    "def analyze_salary_gap(male_salaries, female_salaries):\n",
    "    # Calculate the means\n",
    "    mean_male = np.mean(male_salaries)\n",
    "    mean_female = np.mean(female_salaries)\n",
    "    \n",
    "    # Calculate the variances\n",
    "    var_male = np.var(male_salaries, ddof=1)\n",
    "    var_female = np.var(female_salaries, ddof=1)\n",
    "    \n",
    "    # Number of observations in each group\n",
    "    n_male = len(male_salaries)\n",
    "    n_female = len(female_salaries)\n",
    "    \n",
    "    # Calculate the t-statistic\n",
    "    t_statistic = (mean_male - mean_female) / np.sqrt((var_male/n_male) + (var_female/n_female))\n",
    "    \n",
    "    # Degrees of freedom\n",
    "    df = (((var_male/n_male) + (var_female/n_female))**2) / (((var_male/n_male)**2/(n_male-1)) + ((var_female/n_female)**2/(n_female-1)))\n",
    "    \n",
    "    # Calculate the p-value (two-tailed test)\n",
    "    p_value = st.t.sf(np.abs(t_statistic), df) * 2\n",
    "    \n",
    "    return t_statistic, df, p_value\n",
    "\n",
    "# Salary data for male and female employees\n",
    "np.random.seed(0)  # For reproducibility\n",
    "male_salaries = np.random.normal(loc=50000, scale=10000, size=20)\n",
    "female_salaries = np.random.normal(loc=55000, scale=9000, size=20)\n",
    "\n",
    "# Perform the analysis\n",
    "t_stat, degrees_of_freedom, p_val = analyze_salary_gap(male_salaries, female_salaries)\n",
    "\n",
    "# Output results\n",
    "print(f\"T-statistic: {t_stat}\")\n",
    "print(f\"Degrees of freedom: {degrees_of_freedom}\")\n",
    "print(f\"P-value: {p_val}\")\n",
    "\n",
    "# Interpret the result\n",
    "alpha = 0.05\n",
    "if p_val < alpha:\n",
    "    print(\"There is a statistically significant difference between the average salaries of male and female employees.\")\n",
    "else:\n",
    "    print(\"There is no statistically significant difference between the average salaries of male and female employees.\")"
   ]
  },
  {
   "cell_type": "code",
   "execution_count": 143,
   "id": "2eda3b4c-2f98-47a4-9b01-2766573214d7",
   "metadata": {},
   "outputs": [
    {
     "name": "stdout",
     "output_type": "stream",
     "text": [
      "T-statistic: 11.325830417646698\n",
      "Degrees of freedom: 44.47061033283037\n",
      "P-value: 1.078754084378157e-14\n",
      "There is a statistically significant difference in quality between the two versions.\n"
     ]
    }
   ],
   "source": [
    "# 19. A manufacturer produces two different versions of a product and wants to compare their quality scores. Create a Python function to analyze quality assessment data, calculate the t-statistic, and decide whether there's a signi@icant di@@erence in quality between the two versions.\n",
    "\n",
    "\n",
    "def analyze_quality_scores(version1_scores, version2_scores):\n",
    "    # Calculate the means\n",
    "    mean_v1 = np.mean(version1_scores)\n",
    "    mean_v2 = np.mean(version2_scores)\n",
    "    \n",
    "    # Calculate the variances\n",
    "    var_v1 = np.var(version1_scores, ddof=1)\n",
    "    var_v2 = np.var(version2_scores, ddof=1)\n",
    "    \n",
    "    # Number of observations in each group\n",
    "    n_v1 = len(version1_scores)\n",
    "    n_v2 = len(version2_scores)\n",
    "    \n",
    "    # Calculate the t-statistic\n",
    "    t_statistic = (mean_v1 - mean_v2) / np.sqrt((var_v1/n_v1) + (var_v2/n_v2))\n",
    "    \n",
    "    # Degrees of freedom\n",
    "    df = (((var_v1/n_v1) + (var_v2/n_v2))**2) / (((var_v1/n_v1)**2/(n_v1-1)) + ((var_v2/n_v2)**2/(n_v2-1)))\n",
    "    \n",
    "    # Calculate the p-value (two-tailed test)\n",
    "    p_value = st.t.sf(np.abs(t_statistic), df) * 2\n",
    "    \n",
    "    return t_statistic, df, p_value\n",
    "\n",
    "# Quality scores for the two versions\n",
    "version1_scores = [85, 88, 82, 89, 87, 84, 90, 88, 85, 86, 91, 83, 87, 84, 89, 86, 84, 88, 85, 86, 89, 90, 87, 88, 85]\n",
    "version2_scores = [80, 78, 83, 81, 79, 82, 76, 80, 78, 81, 77, 82, 80, 79, 82, 79, 80, 81, 79, 82, 79, 78, 80, 81, 82]\n",
    "\n",
    "# Perform the analysis\n",
    "t_stat, degrees_of_freedom, p_val = analyze_quality_scores(version1_scores, version2_scores)\n",
    "\n",
    "# Output results\n",
    "print(f\"T-statistic: {t_stat}\")\n",
    "print(f\"Degrees of freedom: {degrees_of_freedom}\")\n",
    "print(f\"P-value: {p_val}\")\n",
    "\n",
    "# Interpret the result\n",
    "alpha = 0.05\n",
    "if p_val < alpha:\n",
    "    print(\"There is a statistically significant difference in quality between the two versions.\")\n",
    "else:\n",
    "    print(\"There is no statistically significant difference in quality between the two versions.\")"
   ]
  },
  {
   "cell_type": "code",
   "execution_count": 144,
   "id": "40c5a946-2819-4110-b474-265e2627f8c5",
   "metadata": {},
   "outputs": [
    {
     "name": "stdout",
     "output_type": "stream",
     "text": [
      "T-statistic: 5.480077554195743\n",
      "Degrees of freedom: 60.0\n",
      "P-value: 8.895290509945657e-07\n",
      "There is a statistically significant difference in customer satisfaction between the two branches.\n"
     ]
    }
   ],
   "source": [
    "# 20. A restaurant chain collects customer satisfaction scores for two different branches. Write a program to analyze the scores, calculate the t-statistic, and determine if there's a statistically significant difference in customer satisfaction between the branches.\n",
    "\n",
    "def analyze_satisfaction_scores(branch_a_scores, branch_b_scores):\n",
    "    # Calculate the means\n",
    "    mean_a = np.mean(branch_a_scores)\n",
    "    mean_b = np.mean(branch_b_scores)\n",
    "    \n",
    "    # Calculate the variances\n",
    "    var_a = np.var(branch_a_scores, ddof=1)\n",
    "    var_b = np.var(branch_b_scores, ddof=1)\n",
    "    \n",
    "    # Number of observations in each group\n",
    "    n_a = len(branch_a_scores)\n",
    "    n_b = len(branch_b_scores)\n",
    "    \n",
    "    # Calculate the t-statistic\n",
    "    t_statistic = (mean_a - mean_b) / np.sqrt((var_a/n_a) + (var_b/n_b))\n",
    "    \n",
    "    # Degrees of freedom\n",
    "    df = (((var_a/n_a) + (var_b/n_b))**2) / (((var_a/n_a)**2/(n_a-1)) + ((var_b/n_b)**2/(n_b-1)))\n",
    "    \n",
    "    # Calculate the p-value (two-tailed test)\n",
    "    p_value = st.t.sf(np.abs(t_statistic), df) * 2\n",
    "    \n",
    "    return t_statistic, df, p_value\n",
    "\n",
    "# Customer satisfaction scores for the two branches\n",
    "branch_a_scores = [4, 5, 3, 4, 5, 4, 5, 3, 4, 4, 5, 4, 4, 3, 4, 5, 5, 4, 3, 4, 5, 4, 3, 5, 4, 4, 5, 3, 4, 5, 4]\n",
    "branch_b_scores = [3, 4, 2, 3, 4, 3, 4, 2, 3, 3, 4, 3, 3, 2, 3, 4, 4, 3, 2, 3, 4, 3, 2, 4, 3, 3, 4, 2, 3, 4, 3]\n",
    "\n",
    "# Perform the analysis\n",
    "t_stat, degrees_of_freedom, p_val = analyze_satisfaction_scores(branch_a_scores, branch_b_scores)\n",
    "\n",
    "# Output results\n",
    "print(f\"T-statistic: {t_stat}\")\n",
    "print(f\"Degrees of freedom: {degrees_of_freedom}\")\n",
    "print(f\"P-value: {p_val}\")\n",
    "\n",
    "# Interpret the result\n",
    "alpha = 0.05\n",
    "if p_val < alpha:\n",
    "    print(\"There is a statistically significant difference in customer satisfaction between the two branches.\")\n",
    "else:\n",
    "    print(\"There is no statistically significant difference in customer satisfaction between the two branches.\")"
   ]
  },
  {
   "cell_type": "code",
   "execution_count": 145,
   "id": "1d048d82-4d85-4cfb-b1b4-2eea4c7c80ce",
   "metadata": {},
   "outputs": [
    {
     "name": "stdout",
     "output_type": "stream",
     "text": [
      "Contingency Table:\n",
      "col_0  Candidate A  Candidate B\n",
      "row_0                          \n",
      "18-30           95           87\n",
      "31-50           87           82\n",
      "51+             84           65\n",
      "\n",
      "Chi-Square Statistic: 0.8779923945254768\n",
      "Degrees of Freedom: 2\n",
      "P-Value: 0.6446832311860852\n",
      "\n",
      "There is no significant association between age groups and voter preferences.\n"
     ]
    }
   ],
   "source": [
    "# 21. A political analyst wants to determine if there is a significant association between age groups and voter preferences FCandidate A or Candidate B). They collect data from a sample of 500 voters and classify them into different age groups and candidate preferences. Perform a Chi-Square test to determine if there is a significant association between age groups and voter preferences.\n",
    "\n",
    "# given data \n",
    "np.random.seed(0)\n",
    "age_groups = np.random.choice(['18-30', '31-50', '51+'], size=500)\n",
    "voter_preferences = np.random.choice(['Candidate A', 'Candidate B'], size=500)\n",
    "\n",
    "# Create a contingency table\n",
    "contingency_table = pd.crosstab(age_groups, voter_preferences)\n",
    "\n",
    "# Perform the Chi-Square test\n",
    "chi2_stat, p_val, dof, expected = chi2_contingency(contingency_table)\n",
    "\n",
    "# Output results\n",
    "print(\"Contingency Table:\")\n",
    "print(contingency_table)\n",
    "print(\"\\nChi-Square Statistic:\", chi2_stat)\n",
    "print(\"Degrees of Freedom:\", dof)\n",
    "print(\"P-Value:\", p_val)\n",
    "\n",
    "# Interpret the result\n",
    "alpha = 0.05\n",
    "if p_val < alpha:\n",
    "    print(\"\\nThere is a significant association between age groups and voter preferences.\")\n",
    "else:\n",
    "    print(\"\\nThere is no significant association between age groups and voter preferences.\")"
   ]
  },
  {
   "cell_type": "code",
   "execution_count": 146,
   "id": "a319a1bc-282b-40a2-b3eb-90d8d010c5b7",
   "metadata": {},
   "outputs": [
    {
     "name": "stdout",
     "output_type": "stream",
     "text": [
      "Observed Data (Contingency Table):\n",
      "[[50 30 40 20]\n",
      " [30 40 30 50]\n",
      " [20 30 40 30]]\n",
      "\n",
      "Expected Data (under Null Hypothesis):\n",
      "[[34.15 34.15 37.56 34.15]\n",
      " [36.59 36.59 40.24 36.59]\n",
      " [29.27 29.27 32.2  29.27]]\n",
      "\n",
      "Chi-Square Statistic: 27.777056277056275\n",
      "Degrees of Freedom: 6\n",
      "P-Value: 0.00010349448486004387\n",
      "\n",
      "There is a significant relationship between product satisfaction levels and customer regions.\n"
     ]
    }
   ],
   "source": [
    "# 22. A company conducted a customer satisfaction survey to determine if there is a significant relationship between product satisfaction levels (Satisfied, Neutral, Dissatisfied) and the region where customers are located (East, West, North, South). The survey data is summarized in a contingency table. Conduct a ChiSquare test to determine if there is a significant relationship between product satisfaction levels and customer regions.\n",
    "\n",
    "# Sample data: Product satisfaction levels (rows) vs. Customer regions (columns)\n",
    "data = np.array([[50, 30, 40, 20], [30, 40, 30, 50], [20, 30, 40, 30]])\n",
    "\n",
    "# Perform the Chi-Square test\n",
    "chi2_stat, p_val, dof, expected = chi2_contingency(data)\n",
    "\n",
    "# Output results\n",
    "print(\"Observed Data (Contingency Table):\")\n",
    "print(data)\n",
    "print(\"\\nExpected Data (under Null Hypothesis):\")\n",
    "print(np.round(expected, 2))\n",
    "print(\"\\nChi-Square Statistic:\", chi2_stat)\n",
    "print(\"Degrees of Freedom:\", dof)\n",
    "print(\"P-Value:\", p_val)\n",
    "\n",
    "# Interpret the result\n",
    "alpha = 0.05\n",
    "if p_val < alpha:\n",
    "    print(\"\\nThere is a significant relationship between product satisfaction levels and customer regions.\")\n",
    "else:\n",
    "    print(\"\\nThere is no significant relationship between product satisfaction levels and customer regions.\")"
   ]
  },
  {
   "cell_type": "code",
   "execution_count": 147,
   "id": "08224540-c3b1-450c-86c0-88c5f7950a3e",
   "metadata": {},
   "outputs": [
    {
     "name": "stdout",
     "output_type": "stream",
     "text": [
      "Observed Data (Contingency Table):\n",
      "[[50 30 20]\n",
      " [30 40 30]\n",
      " [20 30 40]]\n",
      "\n",
      "Expected Data (under Null Hypothesis):\n",
      "[[34.48 34.48 31.03]\n",
      " [34.48 34.48 31.03]\n",
      " [31.03 31.03 27.93]]\n",
      "\n",
      "Chi-Square Statistic: 22.161728395061726\n",
      "Degrees of Freedom: 4\n",
      "P-Value: 0.00018609719479882554\n",
      "\n",
      "There is a significant difference between job performance levels before and after the training.\n"
     ]
    }
   ],
   "source": [
    " # 23. A company implemented an employee training program to improve job performance (Effective, Neutral, Ineffective). After the training, they collected data from a sample of employees and classified them based on their job performance before and after the training. Perform a Chi-Square test to determine if there is a significant difference between job performance levels before and after the training.\n",
    "\n",
    "# Sample data: Job performance levels before (rows) and after (columns) training\n",
    "data = np.array([[50, 30, 20], [30, 40, 30], [20, 30, 40]])\n",
    "\n",
    "# Perform the Chi-Square test\n",
    "chi2_stat, p_val, dof, expected = chi2_contingency(data)\n",
    "\n",
    "# Output results\n",
    "print(\"Observed Data (Contingency Table):\")\n",
    "print(data)\n",
    "print(\"\\nExpected Data (under Null Hypothesis):\")\n",
    "print(np.round(expected, 2))\n",
    "print(\"\\nChi-Square Statistic:\", chi2_stat)\n",
    "print(\"Degrees of Freedom:\", dof)\n",
    "print(\"P-Value:\", p_val)\n",
    "\n",
    "# Interpret the result\n",
    "alpha = 0.05\n",
    "if p_val < alpha:\n",
    "    print(\"\\nThere is a significant difference between job performance levels before and after the training.\")\n",
    "else:\n",
    "    print(\"\\nThere is no significant difference between job performance levels before and after the training.\")"
   ]
  },
  {
   "cell_type": "code",
   "execution_count": 148,
   "id": "50ef96e0-2679-446d-b1b6-5f26b9d10062",
   "metadata": {},
   "outputs": [
    {
     "name": "stdout",
     "output_type": "stream",
     "text": [
      "F-Statistic: 27.03556231003039\n",
      "P-Value: 3.578632885734896e-07\n",
      "\n",
      "There is a significant difference in customer satisfaction scores among the three product versions.\n"
     ]
    }
   ],
   "source": [
    " # 24. A company produces three different versions of a product: Standard, Premium, and Deluxe. The company wants to determine if there is a significant difference in customer satisfaction scores among the three product versions. They conducted a survey and collected customer satisfaction scores for each version from a random sample of customers. Perform an ANOVA test to determine if there is a significant difference in customer satisfaction scores.\n",
    "\n",
    "# Sample data: Customer satisfaction scores for each product version\n",
    "standard_scores = [80, 85, 90, 78, 88, 82, 92, 78, 85, 87]\n",
    "premium_scores = [90, 92, 88, 92, 95, 91, 96, 93, 89, 93]\n",
    "deluxe_scores = [95, 98, 92, 97, 96, 94, 98, 97, 92, 99]\n",
    "\n",
    "# Perform the one-way ANOVA test\n",
    "f_stat, p_val = st.f_oneway(standard_scores, premium_scores, deluxe_scores)\n",
    "\n",
    "# Output results\n",
    "print(\"F-Statistic:\", f_stat)\n",
    "print(\"P-Value:\", p_val)\n",
    "\n",
    "# Interpret the result\n",
    "alpha = 0.05\n",
    "if p_val < alpha:\n",
    "    print(\"\\nThere is a significant difference in customer satisfaction scores among the three product versions.\")\n",
    "else:\n",
    "    print(\"\\nThere is no significant difference in customer satisfaction scores among the three product versions.\")\n"
   ]
  }
 ],
 "metadata": {
  "kernelspec": {
   "display_name": "Python 3 (ipykernel)",
   "language": "python",
   "name": "python3"
  },
  "language_info": {
   "codemirror_mode": {
    "name": "ipython",
    "version": 3
   },
   "file_extension": ".py",
   "mimetype": "text/x-python",
   "name": "python",
   "nbconvert_exporter": "python",
   "pygments_lexer": "ipython3",
   "version": "3.12.0"
  }
 },
 "nbformat": 4,
 "nbformat_minor": 5
}
